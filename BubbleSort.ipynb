{
 "cells": [
  {
   "cell_type": "code",
   "execution_count": 1,
   "id": "3382b048",
   "metadata": {},
   "outputs": [
    {
     "name": "stdout",
     "output_type": "stream",
     "text": [
      "Array after using bubble sort is: [20, 35, 47, 50, 60, 70]\n"
     ]
    }
   ],
   "source": [
    "## Implementation of Bubble Sort\n",
    "## Time complexity: O(n^2)\n",
    "## Method implementation\n",
    "def bubbleSort(arr):\n",
    "    n = len(arr)\n",
    "    for i in range(n):\n",
    "        for j in range(0, n-i-1):\n",
    "            if arr[j] > arr[j+1]:\n",
    "                ## swap of the elements\n",
    "                arr[j], arr[j+1] = arr[j+1], arr[j]\n",
    "    return arr\n",
    "\n",
    "## Driver code\n",
    "arr = [70, 20, 50, 60, 35, 47]\n",
    "result = bubbleSort(arr)\n",
    "print(\"Array after using bubble sort is:\", result)"
   ]
  },
  {
   "cell_type": "code",
   "execution_count": null,
   "id": "9581c0dc",
   "metadata": {},
   "outputs": [],
   "source": []
  }
 ],
 "metadata": {
  "kernelspec": {
   "display_name": "Python 3 (ipykernel)",
   "language": "python",
   "name": "python3"
  },
  "language_info": {
   "codemirror_mode": {
    "name": "ipython",
    "version": 3
   },
   "file_extension": ".py",
   "mimetype": "text/x-python",
   "name": "python",
   "nbconvert_exporter": "python",
   "pygments_lexer": "ipython3",
   "version": "3.9.12"
  }
 },
 "nbformat": 4,
 "nbformat_minor": 5
}

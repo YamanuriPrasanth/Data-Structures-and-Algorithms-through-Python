{
 "cells": [
  {
   "cell_type": "code",
   "execution_count": 1,
   "id": "d6c199c6",
   "metadata": {},
   "outputs": [
    {
     "name": "stdout",
     "output_type": "stream",
     "text": [
      "Sorted array after applying selection sort: [19, 23, 25, 37, 48, 56, 70]\n"
     ]
    }
   ],
   "source": [
    "## Implementation of the selection sort\n",
    "## Method Definition\n",
    "## Time complexity: O(n^2)\n",
    "def selectionSort(arr):\n",
    "    n = len(arr)\n",
    "    for i in range(n):\n",
    "        min_idx = i\n",
    "        for j in range(i+1, n):\n",
    "            if arr[j] < arr[min_idx]:\n",
    "                min_idx = j\n",
    "        ## swap happened after every pass\n",
    "        arr[i], arr[min_idx] = arr[min_idx], arr[i]\n",
    "    return arr\n",
    "\n",
    "## Driver code\n",
    "arr = [70, 56, 23, 19, 25, 37, 48]\n",
    "result = selectionSort(arr)\n",
    "print(\"Sorted array after applying selection sort:\", result)"
   ]
  },
  {
   "cell_type": "code",
   "execution_count": null,
   "id": "12b59cbb",
   "metadata": {},
   "outputs": [],
   "source": []
  }
 ],
 "metadata": {
  "kernelspec": {
   "display_name": "Python 3 (ipykernel)",
   "language": "python",
   "name": "python3"
  },
  "language_info": {
   "codemirror_mode": {
    "name": "ipython",
    "version": 3
   },
   "file_extension": ".py",
   "mimetype": "text/x-python",
   "name": "python",
   "nbconvert_exporter": "python",
   "pygments_lexer": "ipython3",
   "version": "3.9.12"
  }
 },
 "nbformat": 4,
 "nbformat_minor": 5
}

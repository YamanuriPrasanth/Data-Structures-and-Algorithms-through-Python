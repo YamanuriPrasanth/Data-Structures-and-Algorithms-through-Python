{
 "cells": [
  {
   "cell_type": "code",
   "execution_count": 1,
   "id": "1a392351",
   "metadata": {},
   "outputs": [
    {
     "name": "stdout",
     "output_type": "stream",
     "text": [
      "Searching element is present at index: -1\n"
     ]
    }
   ],
   "source": [
    "## Linear Search Algorithm\n",
    "## function definition\n",
    "## time complexity: O(n)\n",
    "## space complexity: O(1)\n",
    "\n",
    "def linearSearch(arr, x):\n",
    "    for i in range(len(arr)):\n",
    "        if arr[i] == x:\n",
    "            return i\n",
    "    return -1\n",
    "    \n",
    "## Driver code\n",
    "arr = [20, 45, 27, 47, 55, 67, 75, 88, 90]\n",
    "x = 65\n",
    "## function calling\n",
    "result = linearSearch(arr, x)\n",
    "print(\"Searching element is present at index:\",result)"
   ]
  },
  {
   "cell_type": "code",
   "execution_count": null,
   "id": "dcb2dd2d",
   "metadata": {},
   "outputs": [],
   "source": []
  }
 ],
 "metadata": {
  "kernelspec": {
   "display_name": "Python 3 (ipykernel)",
   "language": "python",
   "name": "python3"
  },
  "language_info": {
   "codemirror_mode": {
    "name": "ipython",
    "version": 3
   },
   "file_extension": ".py",
   "mimetype": "text/x-python",
   "name": "python",
   "nbconvert_exporter": "python",
   "pygments_lexer": "ipython3",
   "version": "3.9.12"
  }
 },
 "nbformat": 4,
 "nbformat_minor": 5
}
